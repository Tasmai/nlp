{
 "cells": [
  {
   "cell_type": "code",
   "execution_count": 8,
   "id": "6293a9bd",
   "metadata": {},
   "outputs": [],
   "source": [
    "#p4 pos"
   ]
  },
  {
   "cell_type": "code",
   "execution_count": 12,
   "id": "246155d5",
   "metadata": {},
   "outputs": [
    {
     "name": "stderr",
     "output_type": "stream",
     "text": [
      "[nltk_data] Downloading package wordnet to\n",
      "[nltk_data]     C:\\Users\\taszg\\AppData\\Roaming\\nltk_data...\n",
      "[nltk_data]   Package wordnet is already up-to-date!\n",
      "[nltk_data] Downloading package punkt to\n",
      "[nltk_data]     C:\\Users\\taszg\\AppData\\Roaming\\nltk_data...\n",
      "[nltk_data]   Package punkt is already up-to-date!\n",
      "[nltk_data] Downloading package averaged_perceptron_tagger to\n",
      "[nltk_data]     C:\\Users\\taszg\\AppData\\Roaming\\nltk_data...\n",
      "[nltk_data]   Package averaged_perceptron_tagger is already up-to-\n",
      "[nltk_data]       date!\n",
      "[nltk_data] Downloading package averaged_perceptron_tagger to\n",
      "[nltk_data]     C:\\Users\\taszg\\AppData\\Roaming\\nltk_data...\n",
      "[nltk_data]   Package averaged_perceptron_tagger is already up-to-\n",
      "[nltk_data]       date!\n",
      "[nltk_data] Downloading package maxent_ne_chunker to\n",
      "[nltk_data]     C:\\Users\\taszg\\AppData\\Roaming\\nltk_data...\n"
     ]
    },
    {
     "name": "stdout",
     "output_type": "stream",
     "text": [
      "[('We', 'PRP')]\n",
      "[('are', 'VBP')]\n",
      "[('msc', 'NN')]\n",
      "[('students', 'NNS')]\n",
      "[('.', '.')]\n",
      "[('We', 'PRP')]\n",
      "[('like', 'IN')]\n",
      "[('to', 'TO')]\n",
      "[('talk', 'NN')]\n",
      "[('.', '.')]\n",
      "[('could', 'MD')]\n",
      "[('desk', 'NN')]\n",
      "[('desks', 'NNS')]\n",
      "[('tasmai', 'NN')]\n",
      "[('i', 'NN')]\n",
      "[('my', 'PRP$')]\n",
      "\n",
      "\n"
     ]
    },
    {
     "name": "stderr",
     "output_type": "stream",
     "text": [
      "[nltk_data]   Unzipping chunkers\\maxent_ne_chunker.zip.\n",
      "[nltk_data] Downloading package words to\n",
      "[nltk_data]     C:\\Users\\taszg\\AppData\\Roaming\\nltk_data...\n"
     ]
    },
    {
     "name": "stdout",
     "output_type": "stream",
     "text": [
      "(S\n",
      "  Whoever/IN\n",
      "  you/PRP\n",
      "  are/VBP\n",
      "  ,/,\n",
      "  wherever/IN\n",
      "  you/PRP\n",
      "  may/MD\n",
      "  be/VB\n",
      "  ,/,\n",
      "  the/DT\n",
      "  stars/NNS\n",
      "  of/IN\n",
      "  (GPE Teyvat/NNP)\n",
      "  always/RB\n",
      "  have/VBP\n",
      "  a/DT\n",
      "  place/NN\n",
      "  for/IN\n",
      "  you/PRP\n",
      "  in/IN\n",
      "  their/PRP$\n",
      "  skies/NNS)\n"
     ]
    },
    {
     "name": "stderr",
     "output_type": "stream",
     "text": [
      "[nltk_data]   Unzipping corpora\\words.zip.\n"
     ]
    }
   ],
   "source": [
    "import nltk\n",
    "nltk.download('wordnet')\n",
    "from nltk.tokenize import word_tokenize\n",
    "nltk.download('punkt')\n",
    "nltk.download('averaged_perceptron_tagger')\n",
    "\n",
    "\n",
    "mystring = \"We are msc students. We like to talk. could desk desks tasmai i my\"\n",
    "mytokens = word_tokenize(mystring)\n",
    "\n",
    "for i in mytokens:\n",
    "  print(nltk.pos_tag([i]))\n",
    "print(\"\\n\")\n",
    "\n",
    "#name entity recognition\n",
    "\n",
    "nltk.download('averaged_perceptron_tagger')\n",
    "nltk.download('maxent_ne_chunker')\n",
    "nltk.download('words')\n",
    "from nltk.chunk import ne_chunk\n",
    "string=\"Whoever you are, wherever you may be, the stars of Teyvat always have a place for you in their skies\"\n",
    "\n",
    "string_token=word_tokenize(string)\n",
    "string_tag=nltk.pos_tag(string_token)\n",
    "NET=ne_chunk(string_tag)\n",
    "print(NET)\n",
    "\n",
    "\n",
    "\n",
    "\n",
    "\n",
    "\n",
    "\n"
   ]
  },
  {
   "cell_type": "code",
   "execution_count": null,
   "id": "89d73631",
   "metadata": {},
   "outputs": [],
   "source": []
  }
 ],
 "metadata": {
  "kernelspec": {
   "display_name": "Python 3 (ipykernel)",
   "language": "python",
   "name": "python3"
  },
  "language_info": {
   "codemirror_mode": {
    "name": "ipython",
    "version": 3
   },
   "file_extension": ".py",
   "mimetype": "text/x-python",
   "name": "python",
   "nbconvert_exporter": "python",
   "pygments_lexer": "ipython3",
   "version": "3.11.3"
  }
 },
 "nbformat": 4,
 "nbformat_minor": 5
}
