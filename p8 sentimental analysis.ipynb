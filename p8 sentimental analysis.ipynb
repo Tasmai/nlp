{
 "cells": [
  {
   "cell_type": "code",
   "execution_count": 8,
   "id": "f930f7b3",
   "metadata": {},
   "outputs": [],
   "source": [
    "#p8 sentimental analysis"
   ]
  },
  {
   "cell_type": "code",
   "execution_count": 11,
   "id": "42a1ad8a",
   "metadata": {},
   "outputs": [],
   "source": [
    "# pip install scikit-learn"
   ]
  },
  {
   "cell_type": "code",
   "execution_count": 13,
   "id": "ac164614",
   "metadata": {},
   "outputs": [
    {
     "name": "stdout",
     "output_type": "stream",
     "text": [
      "                                              0         1\n",
      "0                             I liked the movie  positive\n",
      "1  Heroe's acting is bad but heroine looks good  negative\n",
      "2                 It's a good movie. Nice story  positive\n",
      "3                            Overall nice movie  positive\n",
      "4          Nice songs. But sadly boring ending.  negative\n",
      "5                       Sad movie, boring movie  negative\n",
      "CountVectorizer(max_features=1500)\n",
      "[[0 1 0 0 0 0]\n",
      " [1 0 0 0 0 0]\n",
      " [0 0 1 0 0 0]\n",
      " [0 0 0 0 1 0]\n",
      " [0 0 0 1 0 0]\n",
      " [0 0 0 0 0 1]]\n",
      "['positive' 'negative' 'positive' 'positive' 'negative' 'negative']\n"
     ]
    },
    {
     "name": "stderr",
     "output_type": "stream",
     "text": [
      "[nltk_data] Downloading package stopwords to\n",
      "[nltk_data]     C:\\Users\\taszg\\AppData\\Roaming\\nltk_data...\n",
      "[nltk_data]   Package stopwords is already up-to-date!\n"
     ]
    },
    {
     "data": {
      "text/plain": [
       "array([[1, 0],\n",
       "       [1, 0]], dtype=int64)"
      ]
     },
     "execution_count": 13,
     "metadata": {},
     "output_type": "execute_result"
    }
   ],
   "source": [
    "import pandas as pd\n",
    "import re\n",
    "import nltk\n",
    "from nltk.corpus import stopwords\n",
    "from nltk.stem.porter import PorterStemmer\n",
    "from sklearn.feature_extraction.text import CountVectorizer\n",
    "\n",
    "dataset = {\n",
    "    \"I liked the movie\" : \"positive\",\n",
    "    \"Heroe's acting is bad but heroine looks good\" : \"negative\",\n",
    "    \"It's a good movie. Nice story\" : \"positive\",\n",
    "    \"Overall nice movie\" : \"positive\",\n",
    "    \"Nice songs. But sadly boring ending.\" : \"negative\",\n",
    "    \"Sad movie, boring movie\" : \"negative\"\n",
    "    \n",
    "}\n",
    "\n",
    "\n",
    "dataset = pd.DataFrame(list(dataset.items()))\n",
    "print(dataset)\n",
    "dataset.columns = [\"Text\", \"Reviews\"]\n",
    "nltk.download('stopwords')\n",
    "\n",
    "\n",
    "corpus = []\n",
    "for i in range(0, 6):\n",
    "    text = re.sub('[^a-zA-Z]', '', dataset['Text'][i])\n",
    "    text = text.lower()\n",
    "    text = text.split()\n",
    "    ps = PorterStemmer()\n",
    "    text = ''.join(text)\n",
    "    corpus.append(text)\n",
    "\n",
    "\n",
    "# creating bag of words model\n",
    "\n",
    "cv = CountVectorizer(max_features = 1500)\n",
    "print(cv)\n",
    "X = cv.fit_transform(corpus).toarray()\n",
    "print(X)\n",
    "y = dataset.iloc[:, 1].values\n",
    "print(y)\n",
    "\n",
    "# splitting the data set into training set and test set\n",
    "\n",
    "from sklearn.model_selection import train_test_split\n",
    "\n",
    "X_train, X_test, y_train, y_test = train_test_split(\n",
    "\n",
    "           X, y, test_size = 0.25, random_state = 0)\n",
    "\n",
    "# fitting naive bayes to the training set\n",
    "\n",
    "from sklearn.naive_bayes import GaussianNB\n",
    "from sklearn.metrics import confusion_matrix\n",
    "classifier = GaussianNB();\n",
    "classifier.fit(X_train, y_train)\n",
    "\n",
    "# predicting test set results\n",
    "\n",
    "y_pred = classifier.predict(X_test)\n",
    "\n",
    "# making the confusion matrix\n",
    "\n",
    "cm = confusion_matrix(y_test, y_pred)\n",
    "cm\n",
    "\n",
    "\n",
    "\n"
   ]
  },
  {
   "cell_type": "code",
   "execution_count": null,
   "id": "c52d428c",
   "metadata": {},
   "outputs": [],
   "source": []
  }
 ],
 "metadata": {
  "kernelspec": {
   "display_name": "Python 3 (ipykernel)",
   "language": "python",
   "name": "python3"
  },
  "language_info": {
   "codemirror_mode": {
    "name": "ipython",
    "version": 3
   },
   "file_extension": ".py",
   "mimetype": "text/x-python",
   "name": "python",
   "nbconvert_exporter": "python",
   "pygments_lexer": "ipython3",
   "version": "3.11.3"
  }
 },
 "nbformat": 4,
 "nbformat_minor": 5
}
