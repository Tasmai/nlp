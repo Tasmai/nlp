{
 "cells": [
  {
   "cell_type": "code",
   "execution_count": null,
   "id": "d416c944",
   "metadata": {},
   "outputs": [],
   "source": [
    "#p3 stemming and lemmatization"
   ]
  },
  {
   "cell_type": "code",
   "execution_count": 4,
   "id": "32ecc1e1",
   "metadata": {},
   "outputs": [
    {
     "name": "stdout",
     "output_type": "stream",
     "text": [
      "give\n",
      "buy\n",
      "studi\n",
      "measur\n",
      "cactu\n",
      "\n",
      "\n",
      "cats:cat\n",
      "casti:casti\n",
      "cacti:cactus\n",
      "geese:goose\n",
      "\n",
      "\n"
     ]
    },
    {
     "name": "stderr",
     "output_type": "stream",
     "text": [
      "[nltk_data] Downloading package wordnet to\n",
      "[nltk_data]     C:\\Users\\taszg\\AppData\\Roaming\\nltk_data...\n",
      "[nltk_data]   Package wordnet is already up-to-date!\n",
      "[nltk_data] Downloading package omw-1.4 to\n",
      "[nltk_data]     C:\\Users\\taszg\\AppData\\Roaming\\nltk_data...\n",
      "[nltk_data]   Package omw-1.4 is already up-to-date!\n"
     ]
    }
   ],
   "source": [
    "import nltk\n",
    "import nltk.corpus\n",
    "\n",
    "#stemming is a process of reducing the word to its word stem by cutting of the beginning or the end\n",
    "\n",
    "from nltk.stem import PorterStemmer\n",
    "pst = PorterStemmer() \n",
    "print(pst.stem(\"Giving\")) \n",
    "print(pst.stem(\"Buying\"))\n",
    "print(pst.stem(\"Studying\"))\n",
    "print(pst.stem(\"measurement\"))\n",
    "print(pst.stem(\"cactus\"))\n",
    "\n",
    "print(\"\\n\")\n",
    "\n",
    "#lemmatization\n",
    "\n",
    "from nltk.stem import wordnet\n",
    "from nltk.stem import WordNetLemmatizer\n",
    "\n",
    "lemmatizer = WordNetLemmatizer()\n",
    "nltk.download('wordnet')\n",
    "\n",
    "import nltk\n",
    "nltk.download('omw-1.4')\n",
    "\n",
    "word_to_stem = [\"cats\", \"casti\",\"cacti\", \"geese\"]\n",
    "for i in word_to_stem:\n",
    "  print(i+\":\"+ lemmatizer.lemmatize(i))\n",
    "print(\"\\n\")"
   ]
  },
  {
   "cell_type": "code",
   "execution_count": null,
   "id": "adc8ff3c",
   "metadata": {},
   "outputs": [],
   "source": []
  }
 ],
 "metadata": {
  "kernelspec": {
   "display_name": "Python 3 (ipykernel)",
   "language": "python",
   "name": "python3"
  },
  "language_info": {
   "codemirror_mode": {
    "name": "ipython",
    "version": 3
   },
   "file_extension": ".py",
   "mimetype": "text/x-python",
   "name": "python",
   "nbconvert_exporter": "python",
   "pygments_lexer": "ipython3",
   "version": "3.11.3"
  }
 },
 "nbformat": 4,
 "nbformat_minor": 5
}
