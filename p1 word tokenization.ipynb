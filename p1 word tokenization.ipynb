{
 "cells": [
  {
   "cell_type": "code",
   "execution_count": 11,
   "id": "e372cb34",
   "metadata": {},
   "outputs": [],
   "source": [
    "#p1 word tokenization"
   ]
  },
  {
   "cell_type": "code",
   "execution_count": 12,
   "id": "fea22216",
   "metadata": {},
   "outputs": [],
   "source": [
    "#pip install -U nltk"
   ]
  },
  {
   "cell_type": "code",
   "execution_count": 15,
   "id": "c59d6a70",
   "metadata": {},
   "outputs": [
    {
     "name": "stdout",
     "output_type": "stream",
     "text": [
      "['[', \"'Hello\", 'everyone', '.', \"'\", ',', \"'This\", 'is', 'an', 'introducton', 'to', 'tokenization', '.', \"'\", ',', \"'Sit\", 'back', ',', 'and', 'relax', ',', 'enjoy', 'your', 'first', 'lesson', 'of', 'NLP', ']']\n",
      "\n",
      "\n",
      "<class 'list'>\n",
      "\n",
      "\n",
      "28\n",
      "\n",
      "\n",
      "[(',', 4), ('.', 2), (\"'\", 2), ('[', 1), (\"'Hello\", 1), ('everyone', 1), (\"'This\", 1), ('is', 1), ('an', 1), ('introducton', 1), ('to', 1), ('tokenization', 1), (\"'Sit\", 1), ('back', 1), ('and', 1)]\n",
      "\n",
      "\n"
     ]
    },
    {
     "name": "stderr",
     "output_type": "stream",
     "text": [
      "[nltk_data] Downloading package punkt to\n",
      "[nltk_data]     C:\\Users\\taszg\\AppData\\Roaming\\nltk_data...\n",
      "[nltk_data]   Package punkt is already up-to-date!\n"
     ]
    }
   ],
   "source": [
    "import nltk\n",
    "import nltk.corpus\n",
    "from nltk.tokenize import word_tokenize\n",
    "\n",
    "#taking sample data from user\n",
    "nltk.download('punkt')\n",
    "sample=\"['Hello everyone.', 'This is an introducton to tokenization.','Sit back, and relax, enjoy your first lesson of NLP]\"\n",
    "\n",
    "sample_tokens = word_tokenize (sample)\n",
    "#applying tokenization by passing it to word_tokenize\n",
    "sample_tokens\n",
    "print(sample_tokens)\n",
    "print(\"\\n\")\n",
    "\n",
    "\n",
    "print(type(sample_tokens))\n",
    "print(\"\\n\")\n",
    "\n",
    "sample_len = len(sample_tokens)\n",
    "print(sample_len)\n",
    "print(\"\\n\")\n",
    "\n",
    "from nltk.probability import FreqDist\n",
    "fdisk = FreqDist(sample_tokens)\n",
    "top_5 = fdisk.most_common(15)\n",
    "print(top_5)\n",
    "print(\"\\n\")\n",
    "\n"
   ]
  },
  {
   "cell_type": "code",
   "execution_count": null,
   "id": "6b9fb1ff",
   "metadata": {},
   "outputs": [],
   "source": []
  }
 ],
 "metadata": {
  "kernelspec": {
   "display_name": "Python 3 (ipykernel)",
   "language": "python",
   "name": "python3"
  },
  "language_info": {
   "codemirror_mode": {
    "name": "ipython",
    "version": 3
   },
   "file_extension": ".py",
   "mimetype": "text/x-python",
   "name": "python",
   "nbconvert_exporter": "python",
   "pygments_lexer": "ipython3",
   "version": "3.11.3"
  }
 },
 "nbformat": 4,
 "nbformat_minor": 5
}
